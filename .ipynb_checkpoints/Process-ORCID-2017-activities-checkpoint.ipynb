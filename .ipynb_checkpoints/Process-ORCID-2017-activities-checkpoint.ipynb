{
 "cells": [
  {
   "cell_type": "markdown",
   "metadata": {},
   "source": [
    "# Reading and analysing the ORCID public profiles (activities)\n",
    "This notebook describes the process of extracting and analyising data from the 2017 public data release. The analysis uses the activities extract of the profiles in JSON format (https://doi.org/10.6084/m9.figshare.5479792.v1).\n",
    "\n",
    "The method is based on the one used by Bohannon (2017, https://doi.org.10.1126/science.aal1189) for which dataset and scripts can be found here: http://dx.doi.org/10.5061/dryad.48s16.\n",
    "\n",
    "I am initially using only the \"activities\" file as the additional data contained in the person-section of the ORCID metadata is less likely to enrich the data significantly. For example, email addresses, which would be useful in identifying affiliations based on email domains, are most likely goint to be set to private. \n",
    "However, useful information might be provided by researcher-urls (links) or alternative identifiers, where available, e.g. a link to an institutional profile. Although using education and employment affiliations is likely to provide a more complete dataset, it will be useful to test if links could be used to fill the gap for records without affiliations or to assert if an affiliation is still current (the link resolves).\n"
   ]
  },
  {
   "cell_type": "code",
   "execution_count": null,
   "metadata": {},
   "outputs": [],
   "source": [
    "# Use command line/ terminal to extract the archive onto an external hard drive\n",
    "#tar -xzvf public_profiles_API2.0activities_2017_10_json.tar.gz -C ~/destination"
   ]
  },
  {
   "cell_type": "markdown",
   "metadata": {},
   "source": [
    "## Setup\n",
    "Load a couple of profiles to adapt the functions to the new ORCID message schema:"
   ]
  },
  {
   "cell_type": "code",
   "execution_count": null,
   "metadata": {},
   "outputs": [],
   "source": [
    "#load my own ORCID profile to check contents\n",
    "json.load(open(\"/media/eva/Eva-passport/ORCIDpubData2017/public_profiles_API-2.0-activities_2017_10_json/9/0000-0003-4965-2969_activities.json\"))"
   ]
  },
  {
   "cell_type": "code",
   "execution_count": 275,
   "metadata": {},
   "outputs": [],
   "source": [
    "#load an empty ORCID profile to check contents\n",
    "json.load(open(\"/media/eva/Eva-passport/ORCIDpubData2017/public_profiles_API-2.0-activities_2017_10_json/x/0000-0003-2914-115X_activities.json\"))"
   ]
  },
  {
   "cell_type": "markdown",
   "metadata": {},
   "source": [
    "## The functions needed to load the profiles"
   ]
  },
  {
   "cell_type": "code",
   "execution_count": 2,
   "metadata": {},
   "outputs": [],
   "source": [
    "import json, os, sys\n",
    "import pandas as pd\n",
    "\n",
    "#the original file generator enumerated each file. Needed a workaround as we are iterating through subfolders. \n",
    "#running just the for-loop results in the same strucutre.\n",
    "def file_generator(json_dir):\n",
    "    ''' Using a generator allows pausing and restarting\n",
    "    without having to figure out where you left off. '''\n",
    "    n = 0\n",
    "    for root, directories, files in os.walk(json_dir):\n",
    "            item = None\n",
    "            for filename in files:\n",
    "                m = n\n",
    "                item = m, os.path.join(root, filename)\n",
    "                n += 1\n",
    "                yield (item)\n",
    "        \n",
    "def get_profiles(data, json_files, stop = None):\n",
    "    ''' Iterate over JSON files and process them '''\n",
    "    for n, filepath in json_files:\n",
    "        # keep track of progress\n",
    "        sys.stdout.flush()\n",
    "        sys.stdout.write('\\r{}'.format(filepath))\n",
    "        # terminate if stop is specified and reached\n",
    "        if stop is not None and n >= stop:\n",
    "            return\n",
    "        # process this JSON file and harvest the data\n",
    "        if filepath.endswith(\".json\"):\n",
    "            with open(filepath) as f:\n",
    "                profile = json.load(f)\n",
    "                for row in get_affiliations(profile):\n",
    "                    data.append(row)\n",
    "\n",
    "def has_affiliation(profile):\n",
    "    ''' This tests whether the profile has any affiliations '''\n",
    "    try:\n",
    "        if profile[\"educations\"][\"education-summary\"] != None:\n",
    "            return True\n",
    "        if profile[\"employments\"][\"employment-summary\"] != None:\n",
    "            return True\n",
    "    except:\n",
    "        return False\n",
    "\n",
    "def get_affiliations(profile):\n",
    "    ''' For each profile, extract all affiliations and metadata '''\n",
    "    profile_data = []\n",
    "    orcid_id = None\n",
    "    if has_affiliation(profile):\n",
    "        orcid_id = profile[\"educations\"][\"path\"][1:20]\n",
    "        if profile[\"educations\"][\"education-summary\"] != None:\n",
    "            for edu in profile[\"educations\"][\"education-summary\"]:\n",
    "                row = [orcid_id]\n",
    "                row.append(edu[\"organization\"][\"address\"][\"country\"])\n",
    "                try:\n",
    "                    row.append(edu[\"organization\"][\"name\"])\n",
    "                except:\n",
    "                    row.append(None)\n",
    "                try:\n",
    "                    row.append(edu[\"organization\"][\"disambiguated-organization\"][\"disambiguated-organization-identifier\"])\n",
    "                except:\n",
    "                    row.append(None)\n",
    "                try:\n",
    "                    row.append(edu[\"start-date\"][\"year\"][\"value\"])\n",
    "                except:\n",
    "                    row.append(None)\n",
    "                try:\n",
    "                    row.append(edu[\"end-date\"][\"year\"][\"value\"])\n",
    "                except:\n",
    "                    row.append(None)\n",
    "                try:\n",
    "                    row.append(aff[\"role-title\"])\n",
    "                except:\n",
    "                    row.append(None)\n",
    "                profile_data.append(row)\n",
    "        if profile[\"employments\"][\"employment-summary\"] != None:\n",
    "            for empl in profile[\"employments\"][\"employment-summary\"]:\n",
    "                row = [orcid_id]\n",
    "                row.append(empl[\"organization\"][\"address\"][\"country\"])\n",
    "                try:\n",
    "                    row.append(empl[\"organization\"][\"name\"])\n",
    "                except:\n",
    "                    row.append(None)\n",
    "                try:\n",
    "                     row.append(empl[\"organization\"][\"disambiguated-organization\"][\"disambiguated-organization-identifier\"])\n",
    "                except:\n",
    "                     row.append(None)\n",
    "                try:\n",
    "                    row.append(edu[\"start-date\"][\"year\"][\"value\"])\n",
    "                except:\n",
    "                    row.append(None)\n",
    "                try:\n",
    "                    row.append(empl[\"end-date\"][\"year\"][\"value\"])\n",
    "                except:\n",
    "                    row.append(None)\n",
    "                try:\n",
    "                    row.append(empl[\"role-title\"])\n",
    "                except:\n",
    "                    row.append(None)\n",
    "                profile_data.append(row)\n",
    "    return profile_data"
   ]
  },
  {
   "cell_type": "markdown",
   "metadata": {},
   "source": [
    "### Testing"
   ]
  },
  {
   "cell_type": "code",
   "execution_count": 6,
   "metadata": {},
   "outputs": [],
   "source": [
    "json_dir = \"/media/eva/Eva-passport/ORCIDpubData2017/public_profiles_API-2.0-activities_2017_10_json/0\"\n",
    "json_files = file_generator(json_dir)"
   ]
  },
  {
   "cell_type": "code",
   "execution_count": 7,
   "metadata": {},
   "outputs": [],
   "source": [
    "data = []"
   ]
  },
  {
   "cell_type": "code",
   "execution_count": 8,
   "metadata": {},
   "outputs": [
    {
     "name": "stdout",
     "output_type": "stream",
     "text": [
      "/media/eva/Eva-passport/ORCIDpubData2017/public_profiles_API-2.0-activities_2017_10_json/0/0000-0002-5497-9790_activities.jsonCPU times: user 988 ms, sys: 242 ms, total: 1.23 s\n",
      "Wall time: 5.96 s\n"
     ]
    }
   ],
   "source": [
    "%%time\n",
    "get_profiles(data, json_files, stop=25)"
   ]
  },
  {
   "cell_type": "code",
   "execution_count": null,
   "metadata": {},
   "outputs": [],
   "source": [
    "df = pd.DataFrame(data, columns = [\"orcid_id\", \"country\", \"organization_name\", \n",
    "                              \"oganization_identifier\", \"start_year\", \"end_year\", \"affiliation_role\"])\n",
    "df.tail()"
   ]
  },
  {
   "cell_type": "code",
   "execution_count": 10,
   "metadata": {},
   "outputs": [
    {
     "data": {
      "text/plain": [
       "(4, 8)"
      ]
     },
     "execution_count": 10,
     "metadata": {},
     "output_type": "execute_result"
    }
   ],
   "source": [
    "df.orcid_id.nunique(), len(df)"
   ]
  },
  {
   "cell_type": "markdown",
   "metadata": {},
   "source": [
    "### Reading in all data\n",
    "After successful testing of the setup, the code can now be run with all data files"
   ]
  },
  {
   "cell_type": "code",
   "execution_count": 229,
   "metadata": {},
   "outputs": [],
   "source": [
    "json_dir = \"/media/eva/Eva-passport/ORCIDpubData2017/public_profiles_API-2.0-activities_2017_10_json\"\n",
    "json_files = file_generator(json_dir)"
   ]
  },
  {
   "cell_type": "code",
   "execution_count": 230,
   "metadata": {},
   "outputs": [],
   "source": [
    "#data = [] #commenting this out, so we don't accidentally reset the data frame!"
   ]
  },
  {
   "cell_type": "code",
   "execution_count": 231,
   "metadata": {},
   "outputs": [
    {
     "name": "stdout",
     "output_type": "stream",
     "text": [
      "/media/eva/Eva-passport/ORCIDpubData2017/public_profiles_API-2.0-activities_2017_10_json/x/0000-0003-2914-115X_activities.jsonCPU times: user 3h 50min 38s, sys: 58min 6s, total: 4h 48min 44s\n",
      "Wall time: 1d 15h 7min 3s\n"
     ]
    }
   ],
   "source": [
    "%%time\n",
    "get_profiles(data, json_files)"
   ]
  },
  {
   "cell_type": "code",
   "execution_count": null,
   "metadata": {},
   "outputs": [],
   "source": [
    "df = pd.DataFrame(data, columns = [\"orcid_id\", \"country\", \"organization_name\", \n",
    "                              \"oganization_identifier\", \"start_year\", \"end_year\", \"affiliation_role\"])\n",
    "df.head()"
   ]
  },
  {
   "cell_type": "code",
   "execution_count": 540,
   "metadata": {},
   "outputs": [
    {
     "data": {
      "text/plain": [
       "(3040444, 1111585)"
      ]
     },
     "execution_count": 540,
     "metadata": {},
     "output_type": "execute_result"
    }
   ],
   "source": [
    "len(df), df.orcid_id.nunique()"
   ]
  },
  {
   "cell_type": "markdown",
   "metadata": {},
   "source": [
    "There are 1,111,585 profiles with an education or employment affiliation. In total just over 3 million affiliations have been identified."
   ]
  },
  {
   "cell_type": "markdown",
   "metadata": {},
   "source": [
    "### Affiliation dates, estimating 'active' affiliations"
   ]
  },
  {
   "cell_type": "code",
   "execution_count": 533,
   "metadata": {},
   "outputs": [
    {
     "name": "stdout",
     "output_type": "stream",
     "text": [
      "Total number of affiliations without end date: 1235569 unique records: 950407\n"
     ]
    }
   ],
   "source": [
    "#affiliation_without_dates = df[(df[\"start_year\"].isnull()) & (df[\"end_year\"].isnull())]\n",
    "#start year can't be used because of a mistake in function reading in the data meant all these fields are None\n",
    "affiliation_without_end_year = df[(df[\"end_year\"].isnull())]\n",
    "print (\"Total number of affiliations without end date:\", len(affiliation_without_end_year),\"unique records:\",affiliation_without_end_year.orcid_id.nunique())"
   ]
  },
  {
   "cell_type": "markdown",
   "metadata": {},
   "source": [
    "Of all the affiliations identified, 1,235,569 in 950,407 ORCID records do not an end date. That's around 40% of the affiliations and represents 85% of ORCID records with an affilitation.\n",
    "\n",
    "**Identifying ORCID records with an ongoing affiliation, as done by Bohannon (2017) is not trivial:**\n",
    "* users might not have added a start date to their affiliation\n",
    "* CRIS or other local systems might not have added any dates to the asserted affiliation. \n",
    "    * This is for example the case with the information pushed from Pure to ORCID in the case of St Andrews: No start or end date is provided. For current affiliation it says \"present\". However, this is not a value that is part of the metadata export.\n",
    "    * Spot checks would indicate that CRIS system to also not necessarily add end dates to affiliations. Cases were found where, e.g. the employment information source is a CRIS but no end date is provided even though the researcher is no longer affiliated with the university.\n",
    "    * Reasons for this might include privacy concerns, so this is unlikely to change and might be the case for many other systems.\n",
    "* At the time of writing, a mistake in the 'get_affiliations()' function meant that all start_year fields are empty.\n",
    "    * The ability to use the start year as well would have allowed identifying records where _any_ date has been added to the affiliation, increasing the confidence that those entries show current affiliations. \n",
    "\n",
    "Are there other routes which might enable us to estimate if an affiliation is current?\n",
    "* One possibility would be to use an email address (if made public) or url added in the person section of the record. This will be tested separately as it requires further development of the functions and could include additional tests."
   ]
  },
  {
   "cell_type": "markdown",
   "metadata": {},
   "source": [
    "## Some institutional data"
   ]
  },
  {
   "cell_type": "code",
   "execution_count": null,
   "metadata": {},
   "outputs": [],
   "source": [
    "UStA_all = df[(df.organization_name.str.contains(\"University of St Andrews\"))]\n",
    "UStA_all_orgID = df[(df.organization_name.str.contains(\"University of St Andrews\")) & (df.oganization_identifier.notnull())]\n",
    "UStA_current = df[(df.organization_name.str.contains(\"University of St Andrews\")) & (df.end_year.isnull())]\n",
    "\n",
    "print (\"University of St Andrews affililiations:\", len(UStA_all), \", unique profiles: \", UStA_all.orcid_id.nunique())\n",
    "print (\"University of St Andrews affiliations with entry in organizational identifier field: \", UStA_all_RGID.orcid_id.nunique())\n",
    "print (\"Unique University of St Andrews affiliations without end date: \", len(UStA_current), \", unique profiles:\", UStA_current.orcid_id.nunique())\n",
    "\n",
    "#pd.unique(UStA_all[['oganization_identifier']].values.ravel('K')) # check how many different organizational identifiers are associated with the institution."
   ]
  },
  {
   "cell_type": "markdown",
   "metadata": {},
   "source": [
    "### Observations so far\n",
    "* Looking at affiliations without an end date might still provide a reasonable estimate of how many affiliations are still 'active'\n",
    "    * Spot checks for records without an end date mostly revealed profiles with an ongoing affiliation.\n",
    "    * The number of false negatives might not be significant (at this time)\n",
    "    * Using the information source provided in the metadata would help clarifying this further  \n",
    "* Adding the start_year to the analyiss would provide greater confidence that the affiliations are in fact current, as opposed to affiliations where no dates have been added at all.\n",
    "* Comparison with the number of records with urls to institutinoal profiles will still be interesting.\n",
    "\n",
    "For institutions where a local system is able to write to member's ORCID records, it would be interesting to see how many of the affiliations have been added by it. This would require to include the source of the education or employment information.\n",
    "\n",
    "Additional insights might also be gained from having information about the type of affiliation (education or employment), as this might not always be available from the role description. A column with this descirption could be added to the data."
   ]
  },
  {
   "cell_type": "code",
   "execution_count": null,
   "metadata": {},
   "outputs": [],
   "source": []
  }
 ],
 "metadata": {
  "celltoolbar": "Raw Cell Format",
  "kernelspec": {
   "display_name": "Python 3",
   "language": "python",
   "name": "python3"
  },
  "language_info": {
   "codemirror_mode": {
    "name": "ipython",
    "version": 3
   },
   "file_extension": ".py",
   "mimetype": "text/x-python",
   "name": "python",
   "nbconvert_exporter": "python",
   "pygments_lexer": "ipython3",
   "version": "3.6.4"
  }
 },
 "nbformat": 4,
 "nbformat_minor": 2
}
